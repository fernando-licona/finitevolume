{
 "cells": [
  {
   "cell_type": "code",
   "execution_count": 1,
   "metadata": {},
   "outputs": [],
   "source": [
    "import pandas as pd\n",
    "import numpy as np\n",
    "from sympy import *\n",
    "import matplotlib.pyplot as plt\n",
    "import math"
   ]
  },
  {
   "cell_type": "code",
   "execution_count": 2,
   "metadata": {},
   "outputs": [],
   "source": [
    "L = symbols('L')\n",
    "L = 10\n",
    "S = symbols('S')\n",
    "S = 0\n",
    "u = symbols('u')\n",
    "u = 0.1\n",
    "D = symbols('D')\n",
    "D = 0.1\n",
    "rho = symbols('rho')\n",
    "rho = 1.18\n",
    "Pe = symbols('Pe')\n",
    "Pe = rho*u*L/D\n",
    "Relx = 0.5\n",
    "deltaX = 0.4\n",
    "nodos = int(L/deltaX)\n",
    "Bo = 1 # X = 0\n",
    "Bl = 0 # X = L\n",
    "##################################\n",
    "a1 = Pe/L + 1/deltaX\n",
    "b1 = Pe/L + 2/deltaX\n",
    "a = 3*Pe/(8*L) + 2/deltaX\n",
    "b = 1/deltaX - 3*Pe/(8*L)\n",
    "c = 7 * Pe/(8*L)+1/deltaX\n",
    "d = -1/8*(Pe/L)"
   ]
  },
  {
   "cell_type": "code",
   "execution_count": 3,
   "metadata": {},
   "outputs": [],
   "source": [
    "initial = np.ones(nodos)\n",
    "#initial = np.zeros(nodos)\n",
    "#initial = np.insert(initial,0,1)\n",
    "initial = np.append(initial, 0)\n",
    "source = np.zeros(len(initial))\n",
    "zeros = np.zeros(len(initial))\n",
    "Relax = np.zeros(len(initial))"
   ]
  },
  {
   "cell_type": "code",
   "execution_count": 4,
   "metadata": {},
   "outputs": [],
   "source": [
    "x = np.linspace(start = 0, stop = L, num=nodos+1, endpoint=True)"
   ]
  },
  {
   "cell_type": "code",
   "execution_count": 5,
   "metadata": {},
   "outputs": [],
   "source": [
    "def IterPred(prediccion, inicial, source, orden):\n",
    "    for i in range(len(inicial)):\n",
    "        if (i==0):\n",
    "            prediccion[i] = inicial[i]\n",
    "        elif(i == 1):\n",
    "            prediccion[i] = inicial[i+1]/(b1*deltaX) + inicial[i-1]*(a1/b1) + source[i]*deltaX/(b1*D)\n",
    "        elif(i < len(inicial)-1 and orden == 2):\n",
    "            prediccion[i] = b*inicial[i+1]/a + c*inicial[i-1]/a + d*inicial[i-2]/a + source[i]*(deltaX/a)\n",
    "        elif(i < len(inicial)-1 and orden == 1):\n",
    "            prediccion[i] = inicial[i+1]/(b1*deltaX) + inicial[i-1]*(a1/b1) + source[i]*deltaX/(b1*D)\n",
    "        elif(i==len(inicial)):\n",
    "            prediccion[i] = inicial[i]\n",
    "    return prediccion;"
   ]
  },
  {
   "cell_type": "code",
   "execution_count": 6,
   "metadata": {},
   "outputs": [],
   "source": [
    "def IterRelax(newRelax, prediccion, initial):\n",
    "    for i in range(len(prediccion)):\n",
    "        if (i == 0):\n",
    "            newRelax[i] = prediccion[i]\n",
    "        elif(i < len(prediccion)-1):\n",
    "            newRelax[i] = initial[i] + Relx*(prediccion[i]-initial[i])\n",
    "        elif(i == len(prediccion)):\n",
    "            newRelax[i]= prediccion[i]\n",
    "    return newRelax;"
   ]
  },
  {
   "cell_type": "code",
   "execution_count": 21,
   "metadata": {},
   "outputs": [],
   "source": [
    "analitic = [] # Solucion analitica sin sources\n",
    "for i in range(len(x)):\n",
    "    anal = (Bl - Bo)* (exp(Pe*x[i]/L)-1) / (exp(Pe)-1) + Bo\n",
    "    analitic.append(anal)"
   ]
  },
  {
   "cell_type": "code",
   "execution_count": 22,
   "metadata": {},
   "outputs": [],
   "source": [
    "iterations = 1000"
   ]
  },
  {
   "cell_type": "code",
   "execution_count": 23,
   "metadata": {},
   "outputs": [
    {
     "name": "stdout",
     "output_type": "stream",
     "text": [
      "Residual = 6.436222039680127e-10\n"
     ]
    }
   ],
   "source": [
    "np.seterr(divide='ignore', invalid='ignore')\n",
    "for ite in range(iterations):\n",
    "    if (ite == 0):\n",
    "        old = initial\n",
    "        pred1 = IterPred(zeros,old, source, orden = 2)\n",
    "        rlxResult = IterRelax(Relax, pred1, old)\n",
    "        #print(old[0:4])\n",
    "        #print(pred1[0:4])\n",
    "        #print(rlxResult[0:4])\n",
    "    else:\n",
    "        #print('It '+str(ite))\n",
    "        old = rlxResult\n",
    "        #print(old[0:3])\n",
    "        pred1 = IterPred(zeros,old, source, orden = 2)\n",
    "        #print(pred1[0:3])\n",
    "        if(ite == iterations-1):\n",
    "            print('Residual = ' + str(np.nansum(np.divide(abs(pred1-old),abs(pred1)))))\n",
    "        rlxResult = IterRelax(Relax, pred1, old)\n",
    "        #print(rlxResult[0:3])"
   ]
  },
  {
   "cell_type": "code",
   "execution_count": 24,
   "metadata": {},
   "outputs": [
    {
     "data": {
      "image/png": "[encoded data removed]",
      "text/plain": [
       "<Figure size 432x288 with 1 Axes>"
      ]
     },
     "metadata": {
      "needs_background": "light"
     },
     "output_type": "display_data"
    }
   ],
   "source": [
    "plt.plot(x, analitic, marker = '2', label = 'Analytic')\n",
    "#plt.scatter(x, rlxResult, marker= 'x', s = 9, color = 'orange', label = 'Prediction')\n",
    "plt.scatter(x, pred1, marker = 'o', s = 9, color = 'red', label = 'Prediction')\n",
    "plt.title('Solucion de Segundo Orden '  + str(iterations) + ' iteraciones')\n",
    "plt.legend()\n",
    "plt.show()"
   ]
  },
  {
   "cell_type": "code",
   "execution_count": 25,
   "metadata": {},
   "outputs": [
    {
     "name": "stdout",
     "output_type": "stream",
     "text": [
      "Residual = 1.4406117459084558e-08\n"
     ]
    }
   ],
   "source": [
    "for ite in range(iterations):\n",
    "    if (ite == 0):\n",
    "        old = initial\n",
    "        pred1 = IterPred(zeros,initial, source, orden = 1)\n",
    "        rlxResult = IterRelax(Relax, pred1, initial)\n",
    "    else:\n",
    "        old = rlxResult\n",
    "        pred1 = IterPred(zeros,old, source, orden = 1)\n",
    "        rlxResult = IterRelax(Relax, pred1, old)\n",
    "        if(ite == iterations-1):\n",
    "            print('Residual = ' + str(np.nansum(np.divide(abs(pred1-old),abs(pred1)))))"
   ]
  },
  {
   "cell_type": "code",
   "execution_count": 26,
   "metadata": {},
   "outputs": [
    {
     "data": {
      "image/png": "[encoded data removed]",
      "text/plain": [
       "<Figure size 432x288 with 1 Axes>"
      ]
     },
     "metadata": {
      "needs_background": "light"
     },
     "output_type": "display_data"
    }
   ],
   "source": [
    "plt.scatter(x, pred1, marker = 'o', s = 9, color = 'red', label = 'Prediction')\n",
    "plt.plot(x, analitic, marker = '2', label = 'Analytic')\n",
    "plt.title('Solucion Primer Orden ' + str(iterations) + ' iteraciones')\n",
    "plt.legend()\n",
    "plt.show()"
   ]
  },
  {
   "cell_type": "code",
   "execution_count": null,
   "metadata": {},
   "outputs": [],
   "source": []
  }
 ],
 "metadata": {
  "kernelspec": {
   "display_name": "Python 3",
   "language": "python",
   "name": "python3"
  },
  "language_info": {
   "codemirror_mode": {
    "name": "ipython",
    "version": 3
   },
   "file_extension": ".py",
   "mimetype": "text/x-python",
   "name": "python",
   "nbconvert_exporter": "python",
   "pygments_lexer": "ipython3",
   "version": "3.7.4"
  }
 },
 "nbformat": 4,
 "nbformat_minor": 2
}
