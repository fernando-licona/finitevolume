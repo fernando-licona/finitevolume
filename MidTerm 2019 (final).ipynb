{
 "cells": [
  {
   "cell_type": "code",
   "execution_count": 984,
   "metadata": {},
   "outputs": [],
   "source": [
    "from mpl_toolkits.mplot3d import axes3d\n",
    "import sympy\n",
    "import pandas as pd\n",
    "from sympy import *\n",
    "import matplotlib\n",
    "from sympy.plotting import plot as symplot\n",
    "from sympy.plotting import plot3d\n",
    "from matplotlib.colors import BoundaryNorm\n",
    "from matplotlib.ticker import MaxNLocator\n",
    "import matplotlib.pyplot as plt\n",
    "import numpy as np\n",
    "from pylab import meshgrid,cm,imshow,contour,clabel,colorbar,axis,title,show\n",
    "from sympy.vector import CoordSys3D, divergence, Del, dot"
   ]
  },
  {
   "cell_type": "code",
   "execution_count": 985,
   "metadata": {},
   "outputs": [],
   "source": [
    "x = symbols('x')\n",
    "y = symbols('y')\n",
    "z = symbols('z')\n",
    "r = symbols('r')\n",
    "R = symbols('R')"
   ]
  },
  {
   "cell_type": "code",
   "execution_count": 986,
   "metadata": {},
   "outputs": [
    {
     "name": "stdout",
     "output_type": "stream",
     "text": [
      "Velocity equation in k direction\n"
     ]
    },
    {
     "data": {
      "text/latex": [
       "$\\displaystyle 3 \\left(1 - \\frac{r}{R}\\right)^{2}$"
      ],
      "text/plain": [
       "3*(1 - r/R)**2"
      ]
     },
     "metadata": {},
     "output_type": "display_data"
    },
    {
     "name": "stdout",
     "output_type": "stream",
     "text": [
      "density equation in terms of r\n"
     ]
    },
    {
     "data": {
      "text/latex": [
       "$\\displaystyle 100 - \\frac{50.0 r}{R}$"
      ],
      "text/plain": [
       "100 - 50.0*r/R"
      ]
     },
     "metadata": {},
     "output_type": "display_data"
    },
    {
     "name": "stdout",
     "output_type": "stream",
     "text": [
      "velocity times density\n"
     ]
    },
    {
     "data": {
      "text/latex": [
       "$\\displaystyle 300 - \\frac{750.0 r}{R} + \\frac{600.0 r^{2}}{R^{2}} - \\frac{150.0 r^{3}}{R^{3}}$"
      ],
      "text/plain": [
       "300 - 750.0*r/R + 600.0*r**2/R**2 - 150.0*r**3/R**3"
      ]
     },
     "execution_count": 986,
     "metadata": {},
     "output_type": "execute_result"
    }
   ],
   "source": [
    "w = (3*(1-r/R)**2)\n",
    "print('Velocity equation in k direction')\n",
    "display(w)\n",
    "print('density equation in terms of r')\n",
    "rho = 100*(1-0.5*r/R)\n",
    "display(rho)\n",
    "print('velocity times density')\n",
    "expand(w*rho)"
   ]
  },
  {
   "cell_type": "code",
   "execution_count": 987,
   "metadata": {},
   "outputs": [
    {
     "name": "stdout",
     "output_type": "stream",
     "text": [
      "equation to integrate to get mean velocity\n"
     ]
    },
    {
     "data": {
      "text/latex": [
       "$\\displaystyle \\frac{6.0 r \\left(1 - \\frac{r}{R}\\right)^{2}}{R^{2}}$"
      ],
      "text/plain": [
       "6.0*r*(1 - r/R)**2/R**2"
      ]
     },
     "metadata": {},
     "output_type": "display_data"
    },
    {
     "name": "stdout",
     "output_type": "stream",
     "text": [
      "mean velocity:\n"
     ]
    },
    {
     "data": {
      "text/latex": [
       "$\\displaystyle 0.5$"
      ],
      "text/plain": [
       "0.500000000000000"
      ]
     },
     "metadata": {},
     "output_type": "display_data"
    }
   ],
   "source": [
    "mean = (w*r*pi/2)/(1/4*pi*R**2)\n",
    "print('equation to integrate to get mean velocity')\n",
    "display(mean)\n",
    "mean_vel = integrate(mean,(r,0,R))\n",
    "print('mean velocity:')\n",
    "display(mean_vel)"
   ]
  },
  {
   "cell_type": "code",
   "execution_count": 988,
   "metadata": {},
   "outputs": [
    {
     "name": "stdout",
     "output_type": "stream",
     "text": [
      "funcion a integrar pi/2 * rho * w * r\n"
     ]
    },
    {
     "data": {
      "text/latex": [
       "$\\displaystyle \\frac{3 \\pi r \\left(1 - \\frac{r}{R}\\right)^{2} \\left(100 - \\frac{50.0 r}{R}\\right)}{2}$"
      ],
      "text/plain": [
       "3*pi*r*(1 - r/R)**2*(100 - 50.0*r/R)/2"
      ]
     },
     "metadata": {},
     "output_type": "display_data"
    },
    {
     "name": "stdout",
     "output_type": "stream",
     "text": [
      "mass flow:\n"
     ]
    },
    {
     "data": {
      "text/latex": [
       "$\\displaystyle 10.0 \\pi R^{2}$"
      ],
      "text/plain": [
       "10.0*pi*R**2"
      ]
     },
     "metadata": {},
     "output_type": "display_data"
    }
   ],
   "source": [
    "mass = (rho*w*r*pi/2)\n",
    "print('funcion a integrar pi/2 * rho * w * r')\n",
    "display(mass)\n",
    "mass_flow = integrate(mass,(r,0,R))\n",
    "print('mass flow:')\n",
    "display(mass_flow)"
   ]
  },
  {
   "cell_type": "markdown",
   "metadata": {},
   "source": [
    "## Parte de volumenes finitos para estimar mass flow\n",
    "$ \\dot {m} = \\frac{\\Pi}{2} \\int \\rho \\textbf{v} r dr \\therefore m = \\frac{\\Pi}{2} (\\rho \\textbf{v}  r) \\Delta r $\n",
    "## Para estimar mean velocity\n",
    "$ w = 2wr \\Delta r$"
   ]
  },
  {
   "cell_type": "code",
   "execution_count": 989,
   "metadata": {},
   "outputs": [],
   "source": [
    "mean = mean.subs(R,1)"
   ]
  },
  {
   "cell_type": "code",
   "execution_count": 990,
   "metadata": {},
   "outputs": [],
   "source": [
    "mass = mass.subs(R,1)"
   ]
  },
  {
   "cell_type": "code",
   "execution_count": 991,
   "metadata": {},
   "outputs": [],
   "source": [
    "dr = 0.01\n",
    "R = 1\n",
    "nodos = int(R/dr)"
   ]
  },
  {
   "cell_type": "code",
   "execution_count": 992,
   "metadata": {},
   "outputs": [],
   "source": [
    "rad = np.linspace(start = 0, stop = 1, num=nodos+1, endpoint=True)"
   ]
  },
  {
   "cell_type": "code",
   "execution_count": 993,
   "metadata": {},
   "outputs": [],
   "source": [
    "integral_mean = np.zeros(len(rad))\n",
    "integral_mass = np.zeros(len(rad))\n",
    "for i in range(len(rad)-1):\n",
    "    integral_mean[i] = (mean.subs(r,rad[i]) + mean.subs(r,rad[i+1]))/2*dr"
   ]
  },
  {
   "cell_type": "code",
   "execution_count": 994,
   "metadata": {},
   "outputs": [
    {
     "name": "stdout",
     "output_type": "stream",
     "text": [
      "velocidad promedio\n"
     ]
    },
    {
     "data": {
      "text/plain": [
       "0.4999500000000001"
      ]
     },
     "execution_count": 994,
     "metadata": {},
     "output_type": "execute_result"
    }
   ],
   "source": [
    "print('velocidad promedio')\n",
    "sum(integral_mean)"
   ]
  },
  {
   "cell_type": "code",
   "execution_count": 995,
   "metadata": {},
   "outputs": [],
   "source": [
    "for i in range(len(rad)-1):\n",
    "    integral_mass[i] = (mass.subs(r,rad[i]) + mass.subs(r,rad[i+1]))/2*dr"
   ]
  },
  {
   "cell_type": "code",
   "execution_count": 996,
   "metadata": {},
   "outputs": [
    {
     "name": "stdout",
     "output_type": "stream",
     "text": [
      "flujo másico\n"
     ]
    },
    {
     "data": {
      "text/plain": [
       "31.411999623620755"
      ]
     },
     "execution_count": 996,
     "metadata": {},
     "output_type": "execute_result"
    }
   ],
   "source": [
    "print('flujo másico')\n",
    "sum(integral_mass)"
   ]
  },
  {
   "cell_type": "markdown",
   "metadata": {},
   "source": [
    "# Problem 2"
   ]
  },
  {
   "cell_type": "code",
   "execution_count": 997,
   "metadata": {},
   "outputs": [
    {
     "data": {
      "text/latex": [
       "$\\displaystyle f{\\left(x,y \\right)} + \\frac{\\partial^{2}}{\\partial x^{2}} f{\\left(x,y \\right)} + \\frac{\\partial}{\\partial y} f{\\left(x,y \\right)} = 0$"
      ],
      "text/plain": [
       "Eq(f(x, y) + Derivative(f(x, y), (x, 2)) + Derivative(f(x, y), y), 0)"
      ]
     },
     "metadata": {},
     "output_type": "display_data"
    }
   ],
   "source": [
    "f = Function('f')(x,y)\n",
    "fxx = f.diff(x,x)\n",
    "fy = f.diff(y)\n",
    "eq = Eq(fxx + fy + f)\n",
    "\n",
    "display(eq)\n",
    "c = CoordSys3D('c', transformation='cylindrical', variable_names=(\"r\", \"theta\", \"z\"))"
   ]
  },
  {
   "cell_type": "markdown",
   "metadata": {},
   "source": [
    "## Boundary Conditions:\n",
    "$Zp - Zw = 0$"
   ]
  },
  {
   "cell_type": "markdown",
   "metadata": {},
   "source": [
    "$Zp - Zs = 0$ "
   ]
  },
  {
   "cell_type": "markdown",
   "metadata": {},
   "source": [
    "$Z(x=0) = 1$"
   ]
  },
  {
   "cell_type": "markdown",
   "metadata": {},
   "source": [
    "$Z(y=0) = 1$"
   ]
  },
  {
   "cell_type": "markdown",
   "metadata": {},
   "source": [
    "### Backward Difference Scheme on the dz/dy\n",
    "$\\frac{1}{\\Delta x^2} (Zw+Ze) - Zp (1-\\frac{2}{\\Delta x^2}+\\frac{1}{\\Delta y}) - \\frac{Zs}{\\Delta y} = 0$"
   ]
  },
  {
   "cell_type": "code",
   "execution_count": 1098,
   "metadata": {},
   "outputs": [],
   "source": [
    "L = 1\n",
    "delta = 0.1\n",
    "dx = delta\n",
    "dy = delta\n",
    "w = 1/(dx**2)\n",
    "e = 1/(dx**2)\n",
    "s = -1/(dy)\n",
    "alpha = 1-2/(dx**2) + 1/dy\n",
    "nodos = int(L/delta)\n",
    "x = np.linspace(start = 0, stop = L, num=nodos+1, endpoint=True)\n",
    "Nx = int(len(x))\n",
    "Ny = int(len(x))"
   ]
  },
  {
   "cell_type": "code",
   "execution_count": 1099,
   "metadata": {},
   "outputs": [],
   "source": [
    "res = np.zeros((len(x),len(x)))\n",
    "p = np.zeros(len(x)**2)\n",
    "m = np.zeros((len(x)**2,len(x)**2))\n",
    "# dZ/dy = 0\n",
    "for i in range(0,Nx):\n",
    "    m[i,i] = 1\n",
    "    m[i,i+Nx] = -1\n",
    "    p[i]=0\n",
    "    #print(i,1,i+Nx)\n",
    "step = i\n",
    "\n",
    "# Z = 1 at x = 0\n",
    "for i in range(step+1,step+Ny-1):\n",
    "    m[i,(i-step)*(Nx)] = 1\n",
    "    #print(i,2, (i-step)*(Nx))\n",
    "    p[i] = 1\n",
    "step = i\n",
    "\n",
    "# dZ/dx = 0\n",
    "for i in range(step+1, step+Ny-1):\n",
    "    m[i,(i-step-1)*Nx+(Nx*2-1)] = 1\n",
    "    m[i,(i-step-1)*Nx+(Nx*2-2)] = -1\n",
    "    p[i] = 0\n",
    "    #print(i,3,(i-step-1)*Nx+(Nx*2-2))\n",
    "step = i\n",
    "\n",
    "# Z = 1 at y= 0\n",
    "for i in range(step+1, step+1+ Nx):\n",
    "    m[i,(i-step-1)+Nx*Ny-Ny] = 1\n",
    "    p[i] = 1\n",
    "    #print(i,4,(i-step-1)+Nx*Ny-Ny)\n",
    "step = i\n",
    "\n",
    "# Inside\n",
    "for i in range(0, (Nx-2)):\n",
    "        #m[i,j*]\n",
    "        for j in range(0,Ny-2):\n",
    "            step = step+1\n",
    "            # Zp\n",
    "            m[step,i*(Nx)+(j+Nx+1)] = alpha\n",
    "            #ZW\n",
    "            m[step,i*(Nx)+(j+Nx+1)-1] = w\n",
    "            #ZE\n",
    "            m[step,i*(Nx)+(j+Nx+1)+1] = e\n",
    "            #ZS\n",
    "            m[step,i*(Nx)+(j+Nx+1)+Nx] = s\n",
    "            p[step] = 0\n",
    "            #print(step,5,i*(Nx)+(j+Nx+1)+Nx)"
   ]
  },
  {
   "cell_type": "code",
   "execution_count": 1100,
   "metadata": {},
   "outputs": [
    {
     "data": {
      "image/png": "[encoded data removed]",
      "text/plain": [
       "<Figure size 432x288 with 2 Axes>"
      ]
     },
     "metadata": {
      "needs_background": "light"
     },
     "output_type": "display_data"
    }
   ],
   "source": [
    "m_inv = np.linalg.inv(m)\n",
    "Z = p\n",
    "resultado = np.dot(m_inv,Z)\n",
    "resultado = resultado.reshape((Nx,Nx))\n",
    "plt.imshow(resultado, cmap = 'jet', extent=[0,1, 0,1])\n",
    "plt.title('2D Finite Volume ')\n",
    "plt.colorbar()\n",
    "plt.show()"
   ]
  },
  {
   "cell_type": "code",
   "execution_count": 1101,
   "metadata": {},
   "outputs": [],
   "source": [
    "# A deltas bajos BDS muestra problemas... se modifica el metodo"
   ]
  },
  {
   "cell_type": "code",
   "execution_count": 1093,
   "metadata": {},
   "outputs": [],
   "source": [
    "L = 1\n",
    "delta = 0.01\n",
    "dx = delta\n",
    "dy = delta\n",
    "w = 1/(dx**2)\n",
    "e = 1/(dx**2)\n",
    "n = 1/(2*dy)\n",
    "s = -1/(2*dy)\n",
    "alpha = 1-2/(dx**2)\n",
    "nodos = int(L/delta)\n",
    "x = np.linspace(start = 0, stop = L, num=nodos+1, endpoint=True)\n",
    "Nx = int(len(x))\n",
    "Ny = int(len(x))"
   ]
  },
  {
   "cell_type": "markdown",
   "metadata": {},
   "source": [
    "### Central Difference Scheme on dz/dy\n",
    "$\\frac{1}{\\Delta x^2} (Zw+Ze) - Zp (1-\\frac{2}{\\Delta x^2}) + \\frac{Zn}{2\\Delta y} - \\frac{Zs}{2\\Delta y} = 0$"
   ]
  },
  {
   "cell_type": "code",
   "execution_count": 1094,
   "metadata": {},
   "outputs": [],
   "source": [
    "res = np.zeros((len(x),len(x)))\n",
    "p = np.zeros(len(x)**2)\n",
    "m = np.zeros((len(x)**2,len(x)**2))\n",
    "# dZ/dy = 0\n",
    "for i in range(0,Nx):\n",
    "    m[i,i] = 1\n",
    "    m[i,i+Nx] = -1\n",
    "    p[i]=0\n",
    "    #print(i,1,i+Nx)\n",
    "step = i\n",
    "\n",
    "# Z = 1 at x = 0\n",
    "for i in range(step+1,step+Ny-1):\n",
    "    m[i,(i-step)*(Nx)] = 1\n",
    "    #print(i,2, (i-step)*(Nx))\n",
    "    p[i] = 1\n",
    "step = i\n",
    "\n",
    "# dZ/dx = 0\n",
    "for i in range(step+1, step+Ny-1):\n",
    "    m[i,(i-step-1)*Nx+(Nx*2-1)] = 1\n",
    "    m[i,(i-step-1)*Nx+(Nx*2-2)] = -1\n",
    "    p[i] = 0\n",
    "    #print(i,3,(i-step-1)*Nx+(Nx*2-2))\n",
    "step = i\n",
    "\n",
    "# Z = 1 at y= 0\n",
    "for i in range(step+1, step+1+ Nx):\n",
    "    m[i,(i-step-1)+Nx*Ny-Ny] = 1\n",
    "    p[i] = 1\n",
    "    #print(i,4,(i-step-1)+Nx*Ny-Ny)\n",
    "step = i\n",
    "\n",
    "# Inside\n",
    "for i in range(0, (Nx-2)):\n",
    "        #m[i,j*]\n",
    "        for j in range(0,Ny-2):\n",
    "            step = step+1\n",
    "            # Zp\n",
    "            m[step,i*(Nx)+(j+Nx+1)] = alpha\n",
    "            #ZW\n",
    "            m[step,i*(Nx)+(j+Nx+1)-1] = w\n",
    "            #ZE\n",
    "            m[step,i*(Nx)+(j+Nx+1)+1] = e\n",
    "            #ZN\n",
    "            m[step,i*(Nx)+(j+Nx+1)-Nx] = n\n",
    "            #ZS\n",
    "            m[step,i*(Nx)+(j+Nx+1)+Nx] = s\n",
    "            p[step] = 0\n",
    "            #print(step,5,i*(Nx)+(j+Nx+1)-Nx)"
   ]
  },
  {
   "cell_type": "code",
   "execution_count": 1097,
   "metadata": {
    "scrolled": true
   },
   "outputs": [
    {
     "data": {
      "image/png": "[encoded data removed]",
      "text/plain": [
       "<Figure size 432x288 with 2 Axes>"
      ]
     },
     "metadata": {
      "needs_background": "light"
     },
     "output_type": "display_data"
    }
   ],
   "source": [
    "m_inv = np.linalg.inv(m)\n",
    "Z = p\n",
    "resultado = np.dot(m_inv,Z)\n",
    "resultado = resultado.reshape((Nx,Nx))\n",
    "plt.imshow(resultado, cmap = 'jet', extent=[0,1, 0,1])\n",
    "plt.title('2D Finite Volume ')\n",
    "plt.colorbar()\n",
    "plt.show()"
   ]
  },
  {
   "cell_type": "code",
   "execution_count": null,
   "metadata": {},
   "outputs": [],
   "source": []
  },
  {
   "cell_type": "code",
   "execution_count": null,
   "metadata": {},
   "outputs": [],
   "source": []
  }
 ],
 "metadata": {
  "kernelspec": {
   "display_name": "Python 3",
   "language": "python",
   "name": "python3"
  },
  "language_info": {
   "codemirror_mode": {
    "name": "ipython",
    "version": 3
   },
   "file_extension": ".py",
   "mimetype": "text/x-python",
   "name": "python",
   "nbconvert_exporter": "python",
   "pygments_lexer": "ipython3",
   "version": "3.7.4"
  }
 },
 "nbformat": 4,
 "nbformat_minor": 2
}
